{
 "cells": [
  {
   "cell_type": "code",
   "execution_count": 1,
   "metadata": {},
   "outputs": [],
   "source": [
    "import pandas as pd\n",
    "import numpy as np\n",
    "import seaborn as sns\n",
    "import matplotlib.pyplot as plt\n",
    "import os\n",
    "import warnings\n",
    "warnings.filterwarnings('ignore')\n",
    "\n",
    "MergedFile = \"merged_df.csv\"\n",
    "df = pd.read_csv(MergedFile, delimiter='\\t')\n",
    "\n",
    "# Add the columns directionality and chemotactic_index\n",
    "directionality = []; chemotactic_index = []\n",
    "IC_pos_x = -220;  IC_pos_y = 0\n",
    "for index, row in df.iterrows():\n",
    "    # Directionality: net displacement/total distance traveled\n",
    "    if row['total_distance'] == 0: directionality.append(0)\n",
    "    else: directionality.append( np.sqrt((row['position_x'] - IC_pos_x)**2 + (row['position_y'] - IC_pos_y)**2)/row['total_distance'] )\n",
    "    # Chemotactic index: cos(theta) = (velocity*gradient)/(velocity_norm*gradient_norm)\n",
    "    # Our case gradient/gradient_norm is (0,1) -> cos(theta) = v_y/velocity_norm\n",
    "    velocity_norm = np.linalg.norm(np.array([row['velocity_x'],row['velocity_y']]))\n",
    "    if velocity_norm == 0: chemotactic_index.append(0)\n",
    "    else: chemotactic_index.append( row['velocity_y']/velocity_norm )\n",
    "df['directionality'] = directionality \n",
    "df['chemotactic_index'] = chemotactic_index "
   ]
  },
  {
   "cell_type": "code",
   "execution_count": 2,
   "metadata": {},
   "outputs": [],
   "source": [
    "def PlotTraj_MeanStd(dataframe, var_name_y, axes, hue_var=None, hue_order=None, title=None, legend=False, PlotMeanStd=True):\n",
    "    # Collapse x values by a tolerance\n",
    "    tolerance_x = 5 # microns\n",
    "    dataframe['position_x_bin'] = pd.cut(dataframe['position_x'], bins=np.arange(dataframe['position_x'].min(), dataframe['position_x'].max() + tolerance_x, tolerance_x), labels=False)\n",
    "    if PlotMeanStd: \n",
    "        # Aggregate x values and substrate field by taking the mean and std\n",
    "        if hue_var:\n",
    "            df_agg_mean = dataframe.groupby(['position_x_bin', hue_var], as_index=False).agg({'position_x': 'mean', var_name_y: 'mean'})\n",
    "            df_agg_std = dataframe.groupby(['position_x_bin', hue_var], as_index=False)[var_name_y].std()\n",
    "        else:\n",
    "            df_agg_mean = dataframe.groupby(['position_x_bin'], as_index=False).agg({'position_x': 'mean', var_name_y: 'mean'})\n",
    "            df_agg_std = dataframe.groupby(['position_x_bin'], as_index=False)[var_name_y].std()\n",
    "        # Plot mean curves\n",
    "        plot1 = sns.lineplot(x=\"position_x\", y=var_name_y, hue = hue_var,hue_order=[\"linear\",\"exponential decay\",\"half gaussian\"], data=df_agg_mean, errorbar=None, ax=axes, legend=legend)\n",
    "        if (var_name_y == \"position_y\"): plot1.set_ylim([-50,50])\n",
    "        if title: plot1.set_title(title)\n",
    "        if hue_var:\n",
    "            if hue_order: hue_order_plt = hue_order\n",
    "            else: hue_order_plt = df_agg_mean[hue_var].unique()\n",
    "            # Plot std curves\n",
    "            for subs_field in hue_order_plt:\n",
    "                position_x = df_agg_mean.loc[df_agg_mean[hue_var] == subs_field][\"position_x\"].to_numpy()\n",
    "                y_std_lb = df_agg_mean.loc[df_agg_mean[hue_var] == subs_field][var_name_y].to_numpy() - df_agg_std.loc[df_agg_std[hue_var] == subs_field][var_name_y].to_numpy()\n",
    "                y_std_ub = df_agg_mean.loc[df_agg_mean[hue_var] == subs_field][var_name_y].to_numpy() + df_agg_std.loc[df_agg_std[hue_var] == subs_field][var_name_y].to_numpy()\n",
    "                axes.fill_between(position_x, y1=y_std_lb, y2=y_std_ub, alpha=.25)\n",
    "        else:\n",
    "            position_x = df_agg_mean[\"position_x\"].to_numpy()\n",
    "            y_std_lb = df_agg_mean[var_name_y].to_numpy() - df_agg_std[var_name_y].to_numpy()\n",
    "            y_std_ub = df_agg_mean[var_name_y].to_numpy() + df_agg_std[var_name_y].to_numpy()\n",
    "            axes.fill_between(position_x, y1=y_std_lb, y2=y_std_ub, alpha=.25)\n",
    "    else:\n",
    "        plot1 = sns.lineplot(x=\"position_x\", y=var_name_y, hue = hue_var,hue_order=[\"linear\",\"exponential decay\",\"half gaussian\"], data=dataframe, estimator=None, ax=axes, legend=legend, units=\"replicateID\", alpha=0.25)\n",
    "    \n",
    "    return plot1"
   ]
  },
  {
   "cell_type": "markdown",
   "metadata": {},
   "source": [
    "# Metrics: *Speed*, *Directionality*, and *Chemotactic Index*"
   ]
  },
  {
   "cell_type": "code",
   "execution_count": 3,
   "metadata": {},
   "outputs": [
    {
     "data": {
      "application/vnd.jupyter.widget-view+json": {
       "model_id": "b5995f481d7042b7a81321c8e15f9d7b",
       "version_major": 2,
       "version_minor": 0
      },
      "text/plain": [
       "interactive(children=(Dropdown(description='sat_bias_value', options=(1.0, 0.75, 0.5), value=1.0), Dropdown(de…"
      ]
     },
     "metadata": {},
     "output_type": "display_data"
    }
   ],
   "source": [
    "from ipywidgets import interactive\n",
    "def PlotTrajs(sat_bias_value, sat_speed_value, hm_bias_value, hm_speed_value, PlotMeanStd=True):\n",
    "    df_middle = df.loc[ (df['sat_bias'] == sat_bias_value) & (df['sat_speed'] == sat_speed_value) & (df['hm_bias'] == hm_bias_value) & (df['hm_speed'] == hm_speed_value) ]\n",
    "    fig, ax = plt.subplots(figsize=(9,5))\n",
    "    hue_order=[\"linear\",\"exponential decay\",\"half gaussian\"]\n",
    "    fig_title = f\"The sample with sat_bias={sat_bias_value}, sat_speed={sat_speed_value}, hm_bias={hm_bias_value}, and hm_speed={hm_speed_value} ({len(df['replicateID'].unique())} replicates)\"\n",
    "    PlotTraj_MeanStd(df_middle, var_name_y='position_y', axes=ax, hue_var='substrate_field', hue_order=hue_order, title=fig_title, legend='full', PlotMeanStd=PlotMeanStd)\n",
    "\n",
    "interactive_plot = interactive(PlotTrajs, sat_bias_value=df['sat_bias'].unique(), sat_speed_value=df['sat_speed'].unique(), hm_bias_value=df['hm_bias'].unique(), hm_speed_value=df['hm_speed'].unique())\n",
    "display(interactive_plot)"
   ]
  },
  {
   "cell_type": "code",
   "execution_count": 5,
   "metadata": {},
   "outputs": [
    {
     "data": {
      "application/vnd.jupyter.widget-view+json": {
       "model_id": "f7b8bf809cb5433199c2147c4f3119fa",
       "version_major": 2,
       "version_minor": 0
      },
      "text/plain": [
       "interactive(children=(Dropdown(description='sat_bias_value', options=(1.0, 0.75, 0.5), value=1.0), Dropdown(de…"
      ]
     },
     "metadata": {},
     "output_type": "display_data"
    }
   ],
   "source": [
    "def PlotQoIs(sat_bias_value, sat_speed_value, hm_bias_value, hm_speed_value, QOI, PlotMeanStd=True):\n",
    "    df_middle = df.loc[ (df['sat_bias'] == sat_bias_value) & (df['sat_speed'] == sat_speed_value) & (df['hm_bias'] == hm_bias_value) & (df['hm_speed'] == hm_speed_value) ]\n",
    "    fig, ax = plt.subplots(figsize=(9,5))\n",
    "    hue_order=[\"linear\",\"exponential decay\",\"half gaussian\"]\n",
    "    fig_title = f\"The {QOI} with sat_bias={sat_bias_value}, sat_speed={sat_speed_value}, hm_bias={hm_bias_value}, and hm_speed={hm_speed_value} ({len(df['replicateID'].unique())} replicates)\"\n",
    "    PlotTraj_MeanStd(df_middle, var_name_y=QOI, axes=ax, hue_var='substrate_field', hue_order=hue_order, title=fig_title, legend='full', PlotMeanStd=PlotMeanStd)\n",
    "interactive_plot = interactive(PlotQoIs, sat_bias_value=df['sat_bias'].unique(), sat_speed_value=df['sat_speed'].unique(), hm_bias_value=df['hm_bias'].unique(), hm_speed_value=df['hm_speed'].unique(), QOI=[\"average_speed\",\"directionality\",\"chemotactic_index\"])\n",
    "display(interactive_plot)"
   ]
  },
  {
   "cell_type": "markdown",
   "metadata": {},
   "source": [
    "## **Speed:** The average velocity at which a cell moves. This is often calculated as the total distance traveled divided by the position_x taken.\n",
    "$$Speed = \\frac{Total~distance~traveled}{Time~taken}$$"
   ]
  },
  {
   "cell_type": "code",
   "execution_count": null,
   "metadata": {},
   "outputs": [],
   "source": [
    "fig, ax = plt.subplots(figsize=(9,5))\n",
    "hue_order=[\"linear\",\"exponential decay\",\"half gaussian\"]\n",
    "fig_title = f\"The mean and std of speed from {len(df['sampleID'].unique())} samples  and {len(df['replicateID'].unique())} replicates\"\n",
    "PlotTraj_MeanStd(df, var_name_y='average_speed', axes=ax, hue_var='substrate_field', hue_order=hue_order, title=fig_title, legend='full')"
   ]
  },
  {
   "cell_type": "code",
   "execution_count": null,
   "metadata": {},
   "outputs": [],
   "source": [
    "# Fix parameter: sat_bias\n",
    "hue_order=[\"linear\",\"exponential decay\",\"half gaussian\"]\n",
    "col_order=[0.5,0.75,1.0]\n",
    "g1 = sns.FacetGrid(df, hue=\"substrate_field\", hue_order=hue_order, col=\"sat_bias\", col_order=col_order)\n",
    "for ax, col_value in zip(g1.axes[0], col_order):\n",
    "    if col_value == col_order[1]:\n",
    "        plot_center = PlotTraj_MeanStd(df.loc[df['sat_bias'] == col_value], var_name_y='average_speed', hue_var=\"substrate_field\", hue_order=hue_order, axes=ax, legend=\"full\")\n",
    "    else:\n",
    "        plot_side = PlotTraj_MeanStd(df.loc[df['sat_bias'] == col_value], var_name_y='average_speed', hue_var=\"substrate_field\", hue_order=hue_order, axes=ax)\n",
    "g1.set_xlabels(\"\")\n",
    "sns.move_legend(plot_center, \"lower center\", bbox_to_anchor=(0.5, 1.1), ncol=3, frameon=True)#, title=None)\n",
    "\n",
    "# Fix parameter: sat_speed\n",
    "col_order=[0.5,0.75,1.0]\n",
    "g2 = sns.FacetGrid(df, hue=\"substrate_field\", hue_order=hue_order, col=\"sat_speed\", col_order=col_order)\n",
    "for ax, col_value in zip(g2.axes[0], col_order):\n",
    "    if col_value == col_order[1]:\n",
    "        plot_center = PlotTraj_MeanStd(df.loc[df['sat_speed'] == col_value], var_name_y='average_speed', hue_var=\"substrate_field\", hue_order=hue_order, axes=ax, legend=\"full\")\n",
    "    else:\n",
    "        plot_side = PlotTraj_MeanStd(df.loc[df['sat_speed'] == col_value], var_name_y='average_speed', hue_var=\"substrate_field\", hue_order=hue_order, axes=ax)\n",
    "g2.set_xlabels(\"\")\n",
    "\n",
    "# Fix parameter: hm_bias\n",
    "col_order=[0.001,0.003,0.005]\n",
    "g3 = sns.FacetGrid(df, hue=\"substrate_field\", hue_order=hue_order, col=\"hm_bias\", col_order=col_order)\n",
    "for ax, col_value in zip(g3.axes[0], col_order):\n",
    "    if col_value == col_order[1]:\n",
    "        plot_center = PlotTraj_MeanStd(df.loc[df['hm_bias'] == col_value], var_name_y='average_speed', hue_var=\"substrate_field\", hue_order=hue_order, axes=ax, legend=\"full\")\n",
    "    else:\n",
    "        plot_side = PlotTraj_MeanStd(df.loc[df['hm_bias'] == col_value], var_name_y='average_speed', hue_var=\"substrate_field\", hue_order=hue_order, axes=ax)\n",
    "g3.set_xlabels(\"\")\n",
    "\n",
    "# Fix parameter: hm_speed\n",
    "col_order=[0.001,0.003,0.005]\n",
    "g4 = sns.FacetGrid(df, hue=\"substrate_field\", hue_order=hue_order, col=\"hm_speed\", col_order=col_order)\n",
    "for ax, col_value in zip(g4.axes[0], col_order):\n",
    "    if col_value == col_order[1]:\n",
    "        plot_center = PlotTraj_MeanStd(df.loc[df['hm_speed'] == col_value], var_name_y='average_speed', hue_var=\"substrate_field\", hue_order=hue_order, axes=ax, legend=\"full\")\n",
    "    else:\n",
    "        plot_side = PlotTraj_MeanStd(df.loc[df['hm_speed'] == col_value], var_name_y='average_speed', hue_var=\"substrate_field\", hue_order=hue_order, axes=ax)"
   ]
  },
  {
   "cell_type": "markdown",
   "metadata": {},
   "source": [
    "## **Directionality:** A measure of how straight the cell’s path is. It is often quantified as the ratio of the net displacement (the straight-line distance from start to end point) to the total path length traveled by the cell.\n",
    "$$Directionality = \\frac{Straight-line distance}{Total~distance~traveled}$$"
   ]
  },
  {
   "cell_type": "code",
   "execution_count": null,
   "metadata": {},
   "outputs": [],
   "source": [
    "fig, ax = plt.subplots(figsize=(9,5))\n",
    "fig_title = f\"The mean and std of directionality from {len(df['sampleID'].unique())} samples  and {len(df['replicateID'].unique())} replicates\"\n",
    "PlotTraj_MeanStd(df, var_name_y='directionality', axes=ax, hue_var='substrate_field', hue_order=hue_order, title=fig_title, legend='full')"
   ]
  },
  {
   "cell_type": "code",
   "execution_count": null,
   "metadata": {},
   "outputs": [],
   "source": [
    "# Fix parameter: sat_bias\n",
    "hue_order=[\"linear\",\"exponential decay\",\"half gaussian\"]\n",
    "col_order=[0.5,0.75,1.0]\n",
    "g1 = sns.FacetGrid(df, hue=\"substrate_field\", hue_order=hue_order, col=\"sat_bias\", col_order=col_order)\n",
    "for ax, col_value in zip(g1.axes[0], col_order):\n",
    "    if col_value == col_order[1]:\n",
    "        plot_center = PlotTraj_MeanStd(df.loc[df['sat_bias'] == col_value], var_name_y='directionality', hue_var=\"substrate_field\", hue_order=hue_order, axes=ax, legend=\"full\")\n",
    "    else:\n",
    "        plot_side = PlotTraj_MeanStd(df.loc[df['sat_bias'] == col_value], var_name_y='directionality', hue_var=\"substrate_field\", hue_order=hue_order, axes=ax)\n",
    "g1.set_xlabels(\"\")\n",
    "sns.move_legend(plot_center, \"lower center\", bbox_to_anchor=(0.5, 1.1), ncol=3, frameon=True)#, title=None)\n",
    "\n",
    "# Fix parameter: sat_speed\n",
    "col_order=[0.5,0.75,1.0]\n",
    "g2 = sns.FacetGrid(df, hue=\"substrate_field\", hue_order=hue_order, col=\"sat_speed\", col_order=col_order)\n",
    "for ax, col_value in zip(g2.axes[0], col_order):\n",
    "    if col_value == col_order[1]:\n",
    "        plot_center = PlotTraj_MeanStd(df.loc[df['sat_speed'] == col_value], var_name_y='directionality', hue_var=\"substrate_field\", hue_order=hue_order, axes=ax, legend=\"full\")\n",
    "    else:\n",
    "        plot_side = PlotTraj_MeanStd(df.loc[df['sat_speed'] == col_value], var_name_y='directionality', hue_var=\"substrate_field\", hue_order=hue_order, axes=ax)\n",
    "g2.set_xlabels(\"\")\n",
    "\n",
    "# Fix parameter: hm_bias\n",
    "col_order=[0.001,0.003,0.005]\n",
    "g3 = sns.FacetGrid(df, hue=\"substrate_field\", hue_order=hue_order, col=\"hm_bias\", col_order=col_order)\n",
    "for ax, col_value in zip(g3.axes[0], col_order):\n",
    "    if col_value == col_order[1]:\n",
    "        plot_center = PlotTraj_MeanStd(df.loc[df['hm_bias'] == col_value], var_name_y='directionality', hue_var=\"substrate_field\", hue_order=hue_order, axes=ax, legend=\"full\")\n",
    "    else:\n",
    "        plot_side = PlotTraj_MeanStd(df.loc[df['hm_bias'] == col_value], var_name_y='directionality', hue_var=\"substrate_field\", hue_order=hue_order, axes=ax)\n",
    "g3.set_xlabels(\"\")\n",
    "\n",
    "# Fix parameter: hm_speed\n",
    "col_order=[0.001,0.003,0.005]\n",
    "g4 = sns.FacetGrid(df, hue=\"substrate_field\", hue_order=hue_order, col=\"hm_speed\", col_order=col_order)\n",
    "for ax, col_value in zip(g4.axes[0], col_order):\n",
    "    if col_value == col_order[1]:\n",
    "        plot_center = PlotTraj_MeanStd(df.loc[df['hm_speed'] == col_value], var_name_y='directionality', hue_var=\"substrate_field\", hue_order=hue_order, axes=ax, legend=\"full\")\n",
    "    else:\n",
    "        plot_side = PlotTraj_MeanStd(df.loc[df['hm_speed'] == col_value], var_name_y='directionality', hue_var=\"substrate_field\", hue_order=hue_order, axes=ax)"
   ]
  },
  {
   "cell_type": "markdown",
   "metadata": {},
   "source": [
    "## **Chemotactic Index (CI):** This index measures the efficiency of directed movement towards or away from the chemical source. It is calculated as the cosine of the angle between the cell's movement vector and the gradient vector. A CI close to 1 indicates strong chemotaxis toward the source, while a CI close to -1 indicates movement away from the source.\n",
    "$$CI = \\cos{\\theta} = \\frac{\\vec{v}\\cdot\\vec{g}}{|\\vec{v}||\\vec{g}|}$$"
   ]
  },
  {
   "cell_type": "code",
   "execution_count": null,
   "metadata": {},
   "outputs": [],
   "source": [
    "fig, ax = plt.subplots(figsize=(9,5))\n",
    "fig_title = f\"The mean and std of chemotactic_index from {len(df['sampleID'].unique())} samples  and {len(df['replicateID'].unique())} replicates\"\n",
    "PlotTraj_MeanStd(df, var_name_y='chemotactic_index', axes=ax, hue_var='substrate_field', hue_order=hue_order, title=fig_title, legend='full')"
   ]
  },
  {
   "cell_type": "code",
   "execution_count": null,
   "metadata": {},
   "outputs": [],
   "source": [
    "# Fix parameter: sat_bias\n",
    "hue_order=[\"linear\",\"exponential decay\",\"half gaussian\"]\n",
    "col_order=[0.5,0.75,1.0]\n",
    "g1 = sns.FacetGrid(df, hue=\"substrate_field\", hue_order=hue_order, col=\"sat_bias\", col_order=col_order)\n",
    "for ax, col_value in zip(g1.axes[0], col_order):\n",
    "    if col_value == col_order[1]:\n",
    "        plot_center = PlotTraj_MeanStd(df.loc[df['sat_bias'] == col_value], var_name_y='chemotactic_index', hue_var=\"substrate_field\", hue_order=hue_order, axes=ax, legend=\"full\")\n",
    "    else:\n",
    "        plot_side = PlotTraj_MeanStd(df.loc[df['sat_bias'] == col_value], var_name_y='chemotactic_index', hue_var=\"substrate_field\", hue_order=hue_order, axes=ax)\n",
    "g1.set_xlabels(\"\")\n",
    "sns.move_legend(plot_center, \"lower center\", bbox_to_anchor=(0.5, 1.1), ncol=3, frameon=True)#, title=None)\n",
    "\n",
    "# Fix parameter: sat_speed\n",
    "col_order=[0.5,0.75,1.0]\n",
    "g2 = sns.FacetGrid(df, hue=\"substrate_field\", hue_order=hue_order, col=\"sat_speed\", col_order=col_order)\n",
    "for ax, col_value in zip(g2.axes[0], col_order):\n",
    "    if col_value == col_order[1]:\n",
    "        plot_center = PlotTraj_MeanStd(df.loc[df['sat_speed'] == col_value], var_name_y='chemotactic_index', hue_var=\"substrate_field\", hue_order=hue_order, axes=ax, legend=\"full\")\n",
    "    else:\n",
    "        plot_side = PlotTraj_MeanStd(df.loc[df['sat_speed'] == col_value], var_name_y='chemotactic_index', hue_var=\"substrate_field\", hue_order=hue_order, axes=ax)\n",
    "g2.set_xlabels(\"\")\n",
    "\n",
    "# Fix parameter: hm_bias\n",
    "col_order=[0.001,0.003,0.005]\n",
    "g3 = sns.FacetGrid(df, hue=\"substrate_field\", hue_order=hue_order, col=\"hm_bias\", col_order=col_order)\n",
    "for ax, col_value in zip(g3.axes[0], col_order):\n",
    "    if col_value == col_order[1]:\n",
    "        plot_center = PlotTraj_MeanStd(df.loc[df['hm_bias'] == col_value], var_name_y='chemotactic_index', hue_var=\"substrate_field\", hue_order=hue_order, axes=ax, legend=\"full\")\n",
    "    else:\n",
    "        plot_side = PlotTraj_MeanStd(df.loc[df['hm_bias'] == col_value], var_name_y='chemotactic_index', hue_var=\"substrate_field\", hue_order=hue_order, axes=ax)\n",
    "g3.set_xlabels(\"\")\n",
    "\n",
    "# Fix parameter: hm_speed\n",
    "col_order=[0.001,0.003,0.005]\n",
    "g4 = sns.FacetGrid(df, hue=\"substrate_field\", hue_order=hue_order, col=\"hm_speed\", col_order=col_order)\n",
    "for ax, col_value in zip(g4.axes[0], col_order):\n",
    "    if col_value == col_order[1]:\n",
    "        plot_center = PlotTraj_MeanStd(df.loc[df['hm_speed'] == col_value], var_name_y='chemotactic_index', hue_var=\"substrate_field\", hue_order=hue_order, axes=ax, legend=\"full\")\n",
    "    else:\n",
    "        plot_side = PlotTraj_MeanStd(df.loc[df['hm_speed'] == col_value], var_name_y='chemotactic_index', hue_var=\"substrate_field\", hue_order=hue_order, axes=ax)"
   ]
  },
  {
   "cell_type": "markdown",
   "metadata": {},
   "source": [
    "## RBD-FAST - Random Balance Designs Fourier Amplitude Sensitivity Test\n",
    "\n",
    "**Random Balance Design (RBD):** This part ensures efficient sampling of the input parameter space. RBD creates a set of model runs where each input parameter value appears in combination with all other possible values from the other input parameters. This avoids bias in the analysis.\n",
    "\n",
    "**Fourier Amplitude Sensitivity Test (FAST):** This method uses the generated model runs from RBD to assess the influence of each input parameter on the model output. It analyzes the variance in the output caused by changes in each input parameter. This helps identify which input parameters have the most significant impact on the final outcome.\n",
    "\n",
    "**Benefits of RBD-FAST:**\n",
    "\n",
    "**Efficiency:** It requires fewer model runs compared to other SA methods for achieving similar accuracy.\n",
    "**Global Sensitivity Indices:** It provides not just qualitative information (like which parameters are important) but also quantitative measures (sensitivity indices) that tell you how much each parameter contributes to the output uncertainty.\n",
    "\n",
    "**Applications of RBD-FAST:**\n",
    "**Uncertainty Quantification:** Used in various fields to understand how uncertainties in model inputs propagate to uncertainties in the model outputs. This is helpful in areas like engineering, physics, and environmental modeling.\n",
    "**Model Calibration and Validation:** Helps identify key parameters that need to be accurately determined for reliable model predictions."
   ]
  },
  {
   "cell_type": "code",
   "execution_count": null,
   "metadata": {},
   "outputs": [],
   "source": [
    "from SALib.analyze.rbd_fast import analyze as analyze_rbd_fast\n",
    "\n",
    "params_list = ['substrate_field', 'sat_bias', 'sat_speed', 'hm_bias', 'hm_speed']\n",
    "problem = {'num_vars': len(params_list), 'names': params_list}\n",
    "\n",
    "# select the last point of each trajectory\n",
    "idx = df.groupby(['sampleID','replicateID'])['position_x'].idxmax()\n",
    "parameters = df.groupby(['sampleID'])[params_list].max().to_numpy()\n",
    "speed_lastPoint = df.loc[idx].groupby(['sampleID'])['average_speed'].mean().to_numpy() # average of all replicates at last point\n",
    "direc_lastPoint = df.loc[idx].groupby(['sampleID'])['directionality'].mean().to_numpy() # average of all replicates at last point\n",
    "CI_mean = df.groupby(['sampleID'])['chemotactic_index'].mean().to_numpy() # average of all replicates in the entire trajectories\n",
    "\n",
    "print(pars.shape,speed_lastPoint.shape,direc_lastPoint.shape,CI_mean.shape)"
   ]
  },
  {
   "cell_type": "code",
   "execution_count": null,
   "metadata": {},
   "outputs": [],
   "source": [
    "Si = analyze_rbd_fast(problem, parameters, speed_lastPoint, print_to_console=True)\n",
    "Si.plot()"
   ]
  },
  {
   "cell_type": "code",
   "execution_count": null,
   "metadata": {},
   "outputs": [],
   "source": [
    "Si = analyze_rbd_fast(problem, parameters, direc_lastPoint, print_to_console=True)\n",
    "Si.plot()"
   ]
  },
  {
   "cell_type": "code",
   "execution_count": null,
   "metadata": {},
   "outputs": [],
   "source": [
    "Si = analyze_rbd_fast(problem, parameters, CI_mean, print_to_console=True)\n",
    "Si.plot()"
   ]
  }
 ],
 "metadata": {
  "kernelspec": {
   "display_name": "base",
   "language": "python",
   "name": "python3"
  },
  "language_info": {
   "codemirror_mode": {
    "name": "ipython",
    "version": 3
   },
   "file_extension": ".py",
   "mimetype": "text/x-python",
   "name": "python",
   "nbconvert_exporter": "python",
   "pygments_lexer": "ipython3",
   "version": "3.11.7"
  }
 },
 "nbformat": 4,
 "nbformat_minor": 2
}
